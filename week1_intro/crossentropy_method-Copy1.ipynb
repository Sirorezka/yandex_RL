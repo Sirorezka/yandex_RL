{
 "cells": [
  {
   "cell_type": "markdown",
   "metadata": {},
   "source": [
    "# Crossentropy method\n",
    "\n",
    "This notebook will teach you to solve reinforcement learning problems with crossentropy method. We'll follow-up by scaling everything up and using neural network policy."
   ]
  },
  {
   "cell_type": "code",
   "execution_count": 1,
   "metadata": {},
   "outputs": [],
   "source": [
    "# XVFB will be launched if you run on a server\n",
    "import os\n",
    "# if type(os.environ.get(\"DISPLAY\")) is not str or len(os.environ.get(\"DISPLAY\")) == 0:\n",
    "#     !bash ../xvfb start\n",
    "#     %env DISPLAY = : 1"
   ]
  },
  {
   "cell_type": "code",
   "execution_count": 2,
   "metadata": {},
   "outputs": [
    {
     "name": "stdout",
     "output_type": "stream",
     "text": [
      "+---------+\n",
      "|\u001b[34;1mR\u001b[0m: |\u001b[43m \u001b[0m: :\u001b[35mG\u001b[0m|\n",
      "| : : : : |\n",
      "| : : : : |\n",
      "| | : | : |\n",
      "|Y| : |B: |\n",
      "+---------+\n",
      "\n"
     ]
    }
   ],
   "source": [
    "import gym\n",
    "import numpy as np\n",
    "import pandas as pd\n",
    "\n",
    "try:\n",
    "    env.close()\n",
    "except:\n",
    "    pass\n",
    "\n",
    "env = gym.make(\"Taxi-v2\")\n",
    "env.reset()\n",
    "env.render()"
   ]
  },
  {
   "cell_type": "code",
   "execution_count": 3,
   "metadata": {},
   "outputs": [
    {
     "name": "stdout",
     "output_type": "stream",
     "text": [
      "n_states=500, n_actions=6\n"
     ]
    }
   ],
   "source": [
    "n_states = env.observation_space.n\n",
    "n_actions = env.action_space.n\n",
    "\n",
    "print(\"n_states=%i, n_actions=%i\" % (n_states, n_actions))"
   ]
  },
  {
   "cell_type": "markdown",
   "metadata": {},
   "source": [
    "# Create stochastic policy\n",
    "\n",
    "This time our policy should be a probability distribution.\n",
    "\n",
    "```policy[s,a] = P(take action a | in state s)```\n",
    "\n",
    "Since we still use integer state and action representations, you can use a 2-dimensional array to represent the policy.\n",
    "\n",
    "Please initialize policy __uniformly__, that is, probabililities of all actions should be equal.\n"
   ]
  },
  {
   "cell_type": "code",
   "execution_count": 4,
   "metadata": {},
   "outputs": [],
   "source": [
    "policy = np.ones([n_states,n_actions])/n_actions"
   ]
  },
  {
   "cell_type": "code",
   "execution_count": 5,
   "metadata": {},
   "outputs": [],
   "source": [
    "assert type(policy) in (np.ndarray, np.matrix)\n",
    "assert np.allclose(policy, 1./n_actions)\n",
    "assert np.allclose(np.sum(policy, axis=1), 1)"
   ]
  },
  {
   "cell_type": "markdown",
   "metadata": {},
   "source": [
    "# Play the game\n",
    "\n",
    "Just like before, but we also record all states and actions we took."
   ]
  },
  {
   "cell_type": "code",
   "execution_count": 6,
   "metadata": {},
   "outputs": [],
   "source": [
    "def generate_session(policy, t_max=10**4):\n",
    "    \"\"\"\n",
    "    Play game until end or for t_max ticks.\n",
    "    :param policy: an array of shape [n_states,n_actions] with action probabilities\n",
    "    :returns: list of states, list of actions and sum of rewards\n",
    "    \"\"\"\n",
    "    states, actions = [], []\n",
    "    total_reward = 0.\n",
    "\n",
    "    s = env.reset()\n",
    "    \n",
    "    for t in range(t_max):\n",
    "\n",
    "        a = np.random.choice(np.arange(policy.shape[1]),p = policy[s])\n",
    "        new_s, r, done, info = env.step(a)\n",
    "\n",
    "        # Record state, action and add up reward to states,actions and total_reward accordingly.\n",
    "        states.append(s)\n",
    "        actions.append(a)\n",
    "        total_reward += r\n",
    "\n",
    "        s = new_s\n",
    "        if done:\n",
    "            break\n",
    "    return states, actions, total_reward"
   ]
  },
  {
   "cell_type": "code",
   "execution_count": 7,
   "metadata": {},
   "outputs": [],
   "source": [
    "s, a, r = generate_session(policy)\n",
    "assert type(s) == type(a) == list\n",
    "assert len(s) == len(a)\n",
    "assert type(r) in [float, np.float]"
   ]
  },
  {
   "cell_type": "code",
   "execution_count": 8,
   "metadata": {},
   "outputs": [
    {
     "data": {
      "text/plain": [
       "<matplotlib.legend.Legend at 0x23309804c18>"
      ]
     },
     "execution_count": 8,
     "metadata": {},
     "output_type": "execute_result"
    },
    {
     "data": {
      "image/png": "[encoded data removed]",
      "text/plain": [
       "<matplotlib.figure.Figure at 0x233091399e8>"
      ]
     },
     "metadata": {},
     "output_type": "display_data"
    }
   ],
   "source": [
    "# let's see the initial reward distribution\n",
    "import matplotlib.pyplot as plt\n",
    "%matplotlib inline\n",
    "\n",
    "sample_rewards = [generate_session(policy, t_max=1000)[-1] for _ in range(200)]\n",
    "\n",
    "plt.hist(sample_rewards, bins=20)\n",
    "plt.vlines([np.percentile(sample_rewards, 50)], [0],[\n",
    "           100], label=\"50'th percentile\", color='green')\n",
    "plt.vlines([np.percentile(sample_rewards, 90)], [0], [\n",
    "           100], label=\"90'th percentile\", color='red')\n",
    "plt.legend()"
   ]
  },
  {
   "cell_type": "markdown",
   "metadata": {},
   "source": [
    "### Crossentropy method steps (2pts)"
   ]
  },
  {
   "cell_type": "code",
   "execution_count": 9,
   "metadata": {},
   "outputs": [],
   "source": [
    "def select_elites(states_batch, actions_batch, rewards_batch, percentile=50):\n",
    "    \"\"\"\n",
    "    Select states and actions from games that have rewards >= percentile\n",
    "    :param states_batch: list of lists of states, states_batch[session_i][t]\n",
    "    :param actions_batch: list of lists of actions, actions_batch[session_i][t]\n",
    "    :param rewards_batch: list of rewards, rewards_batch[session_i][t]\n",
    "\n",
    "    :returns: elite_states ,elite_actions, both 1D lists of states and respective actions from elite sessions\n",
    "\n",
    "    Please return elite states and actions in their original order \n",
    "    [i.e. sorted by session number and timestep within session]\n",
    "\n",
    "    If you're confused, see examples below. Please don't assume that states are integers (they'll get different later).\n",
    "    \"\"\"\n",
    "\n",
    "    reward_threshold = np.percentile(rewards_batch, q = percentile)\n",
    "\n",
    "    ## for discrete\n",
    "    elite_states = [j  for i, rew in enumerate(rewards_batch) if rew>=reward_threshold for j in states_batch[i]]\n",
    "    elite_actions = [j  for i, rew in enumerate(rewards_batch) if rew>=reward_threshold for j in actions_batch[i]]\n",
    "        \n",
    "    return elite_states, elite_actions\n"
   ]
  },
  {
   "cell_type": "code",
   "execution_count": 10,
   "metadata": {},
   "outputs": [
    {
     "name": "stdout",
     "output_type": "stream",
     "text": [
      "Ok!\n"
     ]
    }
   ],
   "source": [
    "states_batch = [\n",
    "    [1, 2, 3],  # game1\n",
    "    [4, 2, 0, 2],  # game2\n",
    "    [3, 1]  # game3\n",
    "]\n",
    "\n",
    "actions_batch = [\n",
    "    [0, 2, 4],  # game1\n",
    "    [3, 2, 0, 1],  # game2\n",
    "    [3, 3]  # game3\n",
    "]\n",
    "rewards_batch = [\n",
    "    3,  # game1\n",
    "    4,  # game2\n",
    "    5,  # game3\n",
    "]\n",
    "\n",
    "test_result_0 = select_elites(\n",
    "    states_batch, actions_batch, rewards_batch, percentile=0)\n",
    "test_result_40 = select_elites(\n",
    "    states_batch, actions_batch, rewards_batch, percentile=30)\n",
    "test_result_90 = select_elites(\n",
    "    states_batch, actions_batch, rewards_batch, percentile=90)\n",
    "test_result_100 = select_elites(\n",
    "    states_batch, actions_batch, rewards_batch, percentile=100)\n",
    "\n",
    "assert np.all(test_result_0[0] == [1, 2, 3, 4, 2, 0, 2, 3, 1])  \\\n",
    "    and np.all(test_result_0[1] == [0, 2, 4, 3, 2, 0, 1, 3, 3]),\\\n",
    "    \"For percentile 0 you should return all states and actions in chronological order\"\n",
    "assert np.all(test_result_40[0] == [4, 2, 0, 2, 3, 1]) and \\\n",
    "    np.all(test_result_40[1] == [3, 2, 0, 1, 3, 3]),\\\n",
    "    \"For percentile 30 you should only select states/actions from two first\"\n",
    "assert np.all(test_result_90[0] == [3, 1]) and \\\n",
    "    np.all(test_result_90[1] == [3, 3]),\\\n",
    "    \"For percentile 90 you should only select states/actions from one game\"\n",
    "assert np.all(test_result_100[0] == [3, 1]) and\\\n",
    "    np.all(test_result_100[1] == [3, 3]),\\\n",
    "    \"Please make sure you use >=, not >. Also double-check how you compute percentile.\"\n",
    "print(\"Ok!\")"
   ]
  },
  {
   "cell_type": "code",
   "execution_count": 11,
   "metadata": {},
   "outputs": [],
   "source": [
    "def update_policy(elite_states, elite_actions):\n",
    "    \"\"\"\n",
    "    Given old policy and a list of elite states/actions from select_elites,\n",
    "    return new updated policy where each action probability is proportional to\n",
    "\n",
    "    policy[s_i,a_i] ~ #[occurences of si and ai in elite states/actions]\n",
    "\n",
    "    Don't forget to normalize policy to get valid probabilities and handle 0/0 case.\n",
    "    In case you never visited a state, set probabilities for all actions to 1./n_actions\n",
    "\n",
    "    :param elite_states: 1D list of states from elite sessions\n",
    "    :param elite_actions: 1D list of actions from elite sessions\n",
    "\n",
    "    \"\"\"\n",
    "\n",
    "    new_policy = np.zeros([n_states, n_actions])\n",
    "#     new_policy +=1/100\n",
    "    \n",
    "    for i in range(len(elite_states)):\n",
    "        new_policy[elite_states[i],elite_actions[i]]+=1\n",
    "        \n",
    "    for i in range(new_policy.shape[0]):\n",
    "        if sum(new_policy[i,:])>0:\n",
    "            new_policy[i,:] = new_policy[i,:]/sum(new_policy[i,:])\n",
    "        else:\n",
    "            new_policy[i,:] = 1/new_policy.shape[1]\n",
    "    \n",
    "    print (new_policy)\n",
    "#     <Your code here: update probabilities for actions given elite states & actions >\n",
    "    # Don't forget to set 1/n_actions for all actions in unvisited states.\n",
    "    return new_policy"
   ]
  },
  {
   "cell_type": "code",
   "execution_count": 12,
   "metadata": {},
   "outputs": [
    {
     "name": "stdout",
     "output_type": "stream",
     "text": [
      "[[ 1.          0.          0.          0.          0.          0.        ]\n",
      " [ 0.5         0.          0.          0.5         0.          0.        ]\n",
      " [ 0.          0.33333333  0.66666667  0.          0.          0.        ]\n",
      " ..., \n",
      " [ 0.16666667  0.16666667  0.16666667  0.16666667  0.16666667  0.16666667]\n",
      " [ 0.16666667  0.16666667  0.16666667  0.16666667  0.16666667  0.16666667]\n",
      " [ 0.16666667  0.16666667  0.16666667  0.16666667  0.16666667  0.16666667]]\n",
      "Ok!\n"
     ]
    }
   ],
   "source": [
    "\n",
    "elite_states, elite_actions = ([1, 2, 3, 4, 2, 0, 2, 3, 1], [\n",
    "                               0, 2, 4, 3, 2, 0, 1, 3, 3])\n",
    "\n",
    "\n",
    "new_policy = update_policy(elite_states, elite_actions)\n",
    "\n",
    "assert np.isfinite(new_policy).all(\n",
    "), \"Your new policy contains NaNs or +-inf. Make sure you don't divide by zero.\"\n",
    "assert np.all(\n",
    "    new_policy >= 0), \"Your new policy can't have negative action probabilities\"\n",
    "assert np.allclose(new_policy.sum(\n",
    "    axis=-1), 1), \"Your new policy should be a valid probability distribution over actions\"\n",
    "reference_answer = np.array([\n",
    "    [1.,  0.,  0.,  0.,  0.],\n",
    "    [0.5,  0.,  0.,  0.5,  0.],\n",
    "    [0.,  0.33333333,  0.66666667,  0.,  0.],\n",
    "    [0.,  0.,  0.,  0.5,  0.5]])\n",
    "assert np.allclose(new_policy[:4, :5], reference_answer)\n",
    "print(\"Ok!\")"
   ]
  },
  {
   "cell_type": "markdown",
   "metadata": {},
   "source": [
    "# Training loop\n",
    "Generate sessions, select N best and fit to those."
   ]
  },
  {
   "cell_type": "code",
   "execution_count": 13,
   "metadata": {},
   "outputs": [],
   "source": [
    "from IPython.display import clear_output\n",
    "\n",
    "\n",
    "def show_progress(rewards_batch, log, reward_range=[-990, +10]):\n",
    "    \"\"\"\n",
    "    A convenience function that displays training progress. \n",
    "    No cool math here, just charts.\n",
    "    \"\"\"\n",
    "\n",
    "    mean_reward = np.mean(rewards_batch)\n",
    "    threshold = np.percentile(rewards_batch, percentile)\n",
    "    log.append([mean_reward, threshold])\n",
    "\n",
    "    clear_output(True)\n",
    "    print(\"mean reward = %.3f, threshold=%.3f\" % (mean_reward, threshold))\n",
    "    plt.figure(figsize=[8, 4])\n",
    "    plt.subplot(1, 2, 1)\n",
    "    plt.plot(list(zip(*log))[0], label='Mean rewards')\n",
    "    plt.plot(list(zip(*log))[1], label='Reward thresholds')\n",
    "    plt.legend()\n",
    "    plt.grid()\n",
    "\n",
    "    plt.subplot(1, 2, 2)\n",
    "    plt.hist(rewards_batch, range=reward_range)\n",
    "    plt.vlines([np.percentile(rewards_batch, percentile)],\n",
    "               [0], [100], label=\"percentile\", color='red')\n",
    "    plt.legend()\n",
    "    plt.grid()\n",
    "\n",
    "    plt.show()"
   ]
  },
  {
   "cell_type": "code",
   "execution_count": null,
   "metadata": {},
   "outputs": [],
   "source": [
    "# reset policy just in case\n",
    "policy = np.ones([n_states, n_actions])/n_actions"
   ]
  },
  {
   "cell_type": "code",
   "execution_count": null,
   "metadata": {},
   "outputs": [],
   "source": [
    "n_sessions = 250  # sample this many sessions\n",
    "percentile = 20  # take this percent of session with highest rewards\n",
    "learning_rate = 0.5  # add this thing to all counts for stability\n",
    "\n",
    "log = []\n",
    "\n",
    "for i in range(100):\n",
    "\n",
    "    %time sessions = [generate_session(policy, t_max=1000) for _ in range(n_sessions)]\n",
    "\n",
    "    states_batch, actions_batch, rewards_batch = zip(*sessions)\n",
    "\n",
    "    elite_states, elite_actions = select_elites(states_batch, actions_batch, rewards_batch, percentile=percentile)\n",
    "\n",
    "    new_policy = update_policy(elite_states,elite_actions)\n",
    "\n",
    "    policy = learning_rate*new_policy + (1-learning_rate)*policy\n",
    "\n",
    "    # display results on chart\n",
    "    show_progress(rewards_batch, log)"
   ]
  },
  {
   "cell_type": "code",
   "execution_count": null,
   "metadata": {},
   "outputs": [],
   "source": [
    "show_progress(rewards_batch, log)"
   ]
  },
  {
   "cell_type": "markdown",
   "metadata": {},
   "source": [
    "# Digging deeper: approximate crossentropy with neural nets\n",
    "\n",
    "![img](https://casd35.wikispaces.com/file/view/digging_deeper_final.jpg/359658499/503x260/digging_deeper_final.jpg)\n",
    "\n",
    "In this section we will train a neural network policy for continuous state space game"
   ]
  },
  {
   "cell_type": "code",
   "execution_count": null,
   "metadata": {},
   "outputs": [],
   "source": [
    "# if you see \"<classname> has no attribute .env\", remove .env or update gym\n",
    "try:\n",
    "    env.close()\n",
    "except:\n",
    "    pass\n",
    "\n",
    "env = gym.make(\"CartPole-v0\").env\n",
    "\n",
    "env.reset()\n",
    "n_actions = env.action_space.n\n",
    "\n",
    "plt.imshow(env.render(\"rgb_array\"))\n",
    "env.close()"
   ]
  },
  {
   "cell_type": "code",
   "execution_count": null,
   "metadata": {},
   "outputs": [],
   "source": [
    "# create agent\n",
    "from sklearn.neural_network import MLPClassifier\n",
    "agent = MLPClassifier(hidden_layer_sizes=(20, 20),\n",
    "                      activation='tanh',\n",
    "                      warm_start=True,  # keep progress between .fit(...) calls\n",
    "                      max_iter=1  # make only 1 iteration on each .fit(...)\n",
    "                      )\n",
    "\n",
    "# initialize agent to the dimension of state an amount of actions\n",
    "agent.fit([env.reset()]*n_actions, range(n_actions))"
   ]
  },
  {
   "cell_type": "code",
   "execution_count": null,
   "metadata": {},
   "outputs": [],
   "source": [
    "def generate_session(t_max=1000):\n",
    "\n",
    "    states, actions = [], []\n",
    "    total_reward = 0\n",
    "\n",
    "    s = env.reset()\n",
    "\n",
    "    for t in range(t_max):\n",
    "\n",
    "        # predict array of action probabilities        \n",
    "        probs = agent.predict_proba([s])[0]\n",
    "\n",
    "        a = np.random.choice(np.arange(n_actions),p=probs)\n",
    "\n",
    "        new_s, r, done, info = env.step(a)\n",
    "\n",
    "        # record sessions like you did before\n",
    "        states.append(s)\n",
    "        actions.append(a)\n",
    "        total_reward += r\n",
    "\n",
    "        s = new_s\n",
    "        if done:\n",
    "            break\n",
    "    return states, actions, total_reward"
   ]
  },
  {
   "cell_type": "code",
   "execution_count": null,
   "metadata": {},
   "outputs": [],
   "source": [
    "n_sessions = 100\n",
    "percentile = 70\n",
    "log = []\n",
    "\n",
    "for i in range(100):\n",
    "    # generate new sessions\n",
    "    sessions = [generate_session() for _ in range(n_sessions)]\n",
    "\n",
    "    states_batch, actions_batch, rewards_batch = map(np.array, zip(*sessions))\n",
    "\n",
    "    elite_states, elite_actions =select_elites(states_batch, actions_batch, rewards_batch, percentile=percentile)\n",
    "\n",
    "    agent.fit(elite_states, elite_actions)\n",
    "\n",
    "    show_progress(rewards_batch, log, reward_range=[0, np.max(rewards_batch)])\n",
    "\n",
    "    if np.mean(rewards_batch) > 190:\n",
    "        print(\"You Win! You may stop training now via KeyboardInterrupt.\")"
   ]
  },
  {
   "cell_type": "markdown",
   "metadata": {},
   "source": [
    "# Results"
   ]
  },
  {
   "cell_type": "code",
   "execution_count": null,
   "metadata": {},
   "outputs": [],
   "source": [
    "# record sessions\n",
    "import gym.wrappers\n",
    "\n",
    "try:\n",
    "    env.close()\n",
    "    env.env.close()\n",
    "except:\n",
    "    pass\n",
    "\n",
    "env = gym.wrappers.Monitor(gym.make(\"CartPole-v0\"),\n",
    "                           directory=\"videos\", force=True)\n",
    "sessions = [generate_session() for _ in range(100)]\n",
    "env.env.close()\n",
    "\n",
    "# upload to gym\n",
    "# gym.upload(\"./videos/\",api_key=\"<your_api_key>\") #you'll need me later"
   ]
  },
  {
   "cell_type": "code",
   "execution_count": null,
   "metadata": {},
   "outputs": [],
   "source": [
    "# show video\n",
    "from IPython.display import HTML\n",
    "import os\n",
    "\n",
    "video_names = list(\n",
    "    filter(lambda s: s.endswith(\".mp4\"), os.listdir(\"./videos/\")))\n",
    "\n",
    "HTML(\"\"\"\n",
    "<video width=\"640\" height=\"480\" controls>\n",
    "  <source src=\"{}\" type=\"video/mp4\">\n",
    "</video>\n",
    "\"\"\".format(\"./videos/\"+video_names[-1]))  # this may or may not be _last_ video. Try other indices"
   ]
  },
  {
   "cell_type": "markdown",
   "metadata": {},
   "source": [
    "# Homework part I\n",
    "\n",
    "### Tabular crossentropy method\n",
    "\n",
    "You may have noticed that the taxi problem quickly converges from -100 to a near-optimal score and then descends back into -50/-100. This is in part because the environment has some innate randomness. Namely, the starting points of passenger/driver change from episode to episode.\n",
    "\n",
    "### Tasks\n",
    "- __1.1__ (1 pts) Find out how the algorithm performance changes if you change different percentile and different n_samples.\n",
    "- __1.2__ (2 pts) Tune the algorithm to end up with positive average score.\n",
    "\n",
    "It's okay to modify the existing code.\n"
   ]
  },
  {
   "cell_type": "markdown",
   "metadata": {},
   "source": [
    "```<Describe what you did here.  Preferably with plot/report to support it.>```\n",
    "- started learning with prob = 25 and learning rate 0.5\n",
    "- continued learning with prob = 10 and learning rate 0.05\n",
    "\n",
    "![title](my0.png)\n",
    "\n",
    "![title](my1.png)\n"
   ]
  },
  {
   "cell_type": "markdown",
   "metadata": {},
   "source": [
    "# Homework part II\n",
    "\n",
    "### Deep crossentropy method\n",
    "\n",
    "By this moment you should have got enough score on [CartPole-v0](https://gym.openai.com/envs/CartPole-v0) to consider it solved (see the link). It's time to upload the result and get to something harder.\n",
    "\n",
    "* if you have any trouble with CartPole-v0 and feel stuck, feel free to ask us or your peers for help.\n",
    "\n",
    "### Tasks\n",
    "\n",
    "* __2.1__ (3 pts) Pick one of environments: MountainCar-v0 or LunarLander-v2.\n",
    "  * For MountainCar, get average reward of __at least -150__\n",
    "  * For LunarLander, get average reward of __at least +50__\n",
    "  * For any environment, upload it to gym and post url in your anytask form.\n",
    "\n",
    "See the tips section below, it's kinda important.\n",
    "__Note:__ If your agent is below the target score, you'll still get most of the points depending on the result, so don't be afraid to submit it.\n",
    "  \n",
    "  \n",
    "* __2.2__ (bonus: 4++ pt) Devise a way to speed up training at least 2x against the default version\n",
    "  * Obvious improvement: use [joblib](https://www.google.com/search?client=ubuntu&channel=fs&q=joblib&ie=utf-8&oe=utf-8)\n",
    "  * Try re-using samples from 3-5 last iterations when computing threshold and training\n",
    "  * Experiment with amount of training iterations and learning rate of the neural network (see params)\n",
    "  * __Please list what you did in anytask submission form__\n",
    "  \n",
    "  \n",
    "### Tips\n",
    "* Gym page: [mountaincar](https://gym.openai.com/envs/MountainCar-v0), [lunarlander](https://gym.openai.com/envs/LunarLander-v2)\n",
    "* Sessions for MountainCar may last for 10k+ ticks. Make sure ```t_max``` param is at least 10k.\n",
    " * Also it may be a good idea to cut rewards via \">\" and not \">=\". If 90% of your sessions get reward of -10k and 20% are better, than if you use percentile 20% as threshold, R >= threshold __fails cut off bad sessions__ whule R > threshold works alright.\n",
    "* _issue with gym_: Some versions of gym limit game time by 200 ticks. This will prevent cem training in most cases. Make sure your agent is able to play for the specified __t_max__, and if it isn't, try `env = gym.make(\"MountainCar-v0\").env` or otherwise get rid of TimeLimit wrapper.\n",
    "* If you use old _swig_ lib for LunarLander-v2, you may get an error. See this [issue](https://github.com/openai/gym/issues/100) for solution.\n",
    "* If it won't train it's a good idea to plot reward distribution and record sessions: they may give you some clue. If they don't, call course staff :)\n",
    "* 20-neuron network is probably not enough, feel free to experiment.\n",
    "* __Please upload the results to openai gym and send links to all submissions in the e-mail__\n",
    "\n",
    "### Bonus tasks\n",
    "\n",
    "* __2.3 bonus__ Try to find a network architecture and training params that solve __both__ environments above (_Points depend on implementation. If you attempted this task, please mention it in anytask submission._)\n",
    "\n",
    "* __2.4 bonus__ Solve continuous action space task with `MLPRegressor` or similar.\n",
    "  * Start with [\"Pendulum-v0\"](https://github.com/openai/gym/wiki/Pendulum-v0).\n",
    "  * Since your agent only predicts the \"expected\" action, you will have to add noise to ensure exploration.\n",
    "  * [MountainCarContinuous-v0](https://gym.openai.com/envs/MountainCarContinuous-v0), [LunarLanderContinuous-v2](https://gym.openai.com/envs/LunarLanderContinuous-v2) \n",
    "  * 4 points for solving. Slightly less for getting some results below solution threshold. Note that discrete and continuous environments may have slightly different rules aside from action spaces.\n",
    "\n",
    "\n",
    "If you're still feeling unchallenged, consider the project (see other notebook in this folder)."
   ]
  },
  {
   "cell_type": "markdown",
   "metadata": {},
   "source": [
    "### Lunarlander "
   ]
  },
  {
   "cell_type": "code",
   "execution_count": 13,
   "metadata": {},
   "outputs": [],
   "source": [
    "from IPython.display import clear_output\n",
    "import gym\n",
    "import numpy as np\n",
    "import pandas as pd\n",
    "import os\n",
    "import matplotlib.pyplot as plt\n",
    "%matplotlib inline"
   ]
  },
  {
   "cell_type": "code",
   "execution_count": 14,
   "metadata": {},
   "outputs": [
    {
     "data": {
      "image/png": "[encoded data removed]",
      "text/plain": [
       "<matplotlib.figure.Figure at 0x1f5436af978>"
      ]
     },
     "metadata": {},
     "output_type": "display_data"
    }
   ],
   "source": [
    "\n",
    "# if you see \"<classname> has no attribute .env\", remove .env or update gym\n",
    "try:\n",
    "    env.close()\n",
    "except:\n",
    "    pass\n",
    "\n",
    "env = gym.make(\"LunarLander-v2\").env\n",
    "\n",
    "env.reset()\n",
    "n_actions = env.action_space.n\n",
    "\n",
    "plt.imshow(env.render(\"rgb_array\"))\n",
    "env.close()"
   ]
  },
  {
   "cell_type": "code",
   "execution_count": null,
   "metadata": {},
   "outputs": [],
   "source": [
    "def generate_session(env,agent,n_actions=n_actions,t_max=1000):\n",
    "\n",
    "    states, actions = [], []\n",
    "    total_reward = 0\n",
    "\n",
    "    s = env.reset()\n",
    "\n",
    "    for t in range(t_max):\n",
    "\n",
    "        # predict array of action probabilities        \n",
    "        probs = agent.predict_proba([s])[0]\n",
    "\n",
    "        a = np.random.choice(np.arange(n_actions),p=probs)\n",
    "        new_s, r, done, info = env.step(a)\n",
    "\n",
    "        # record sessions like you did before\n",
    "        states.append(s)\n",
    "        actions.append(a)\n",
    "        total_reward += r\n",
    "\n",
    "        s = new_s\n",
    "        if done:\n",
    "            break\n",
    "    return states, actions, total_reward\n",
    "\n",
    "\n",
    "def select_elites(states_batch, actions_batch, rewards_batch, percentile=50):\n",
    "\n",
    "    reward_threshold = np.percentile(rewards_batch,q = percentile)\n",
    "\n",
    "    elite_states = [j  for i, rew in enumerate(rewards_batch) if rew>=reward_threshold for j in states_batch[i]]\n",
    "    elite_actions = [j  for i, rew in enumerate(rewards_batch) if rew>=reward_threshold for j in actions_batch[i]]\n",
    "    \n",
    "    return elite_states, elite_actions"
   ]
  },
  {
   "cell_type": "code",
   "execution_count": null,
   "metadata": {},
   "outputs": [],
   "source": [
    "from IPython.display import clear_output\n",
    "\n",
    "\n",
    "def show_progress(rewards_batch, log, reward_range=[-990, +10]):\n",
    "    \"\"\"\n",
    "    A convenience function that displays training progress. \n",
    "    No cool math here, just charts.\n",
    "    \"\"\"\n",
    "\n",
    "    mean_reward = np.mean(rewards_batch)\n",
    "    threshold = np.percentile(rewards_batch, percentile)\n",
    "    log.append([mean_reward, threshold])\n",
    "\n",
    "    clear_output(True)\n",
    "    print(\"mean reward = %.3f, threshold=%.3f\" % (mean_reward, threshold))\n",
    "    plt.figure(figsize=[8, 4])\n",
    "    plt.subplot(1, 2, 1)\n",
    "    plt.plot(list(zip(*log))[0], label='Mean rewards')\n",
    "    plt.plot(list(zip(*log))[1], label='Reward thresholds')\n",
    "    plt.legend()\n",
    "    plt.grid()\n",
    "\n",
    "    plt.subplot(1, 2, 2)\n",
    "    plt.hist(rewards_batch, range=reward_range)\n",
    "    plt.vlines([np.percentile(rewards_batch, percentile)],\n",
    "               [0], [100], label=\"percentile\", color='red')\n",
    "    plt.legend()\n",
    "    plt.grid()\n",
    "\n",
    "    plt.show()"
   ]
  },
  {
   "cell_type": "code",
   "execution_count": null,
   "metadata": {},
   "outputs": [],
   "source": [
    "from sklearn.neural_network import MLPClassifier\n",
    "from joblib import Parallel, delayed \n",
    "\n",
    "\n",
    "agent = MLPClassifier(hidden_layer_sizes=(40, 40),\n",
    "                      activation='tanh',\n",
    "                      warm_start=True,  # keep progress between .fit(...) calls\n",
    "                      max_iter=2  # make only 1 iteration on each .fit(...)\n",
    "                      )\n",
    "\n",
    "# initialize agent to the dimension of state an amount of actions\n",
    "agent.fit([env.reset()]*n_actions, range(n_actions))\n",
    "\n",
    "n_sessions = 100\n",
    "percentile = 75\n",
    "log = []\n",
    "session_hist = []\n",
    "for i in range(100):\n",
    "    \n",
    "    # generate new sessions\n",
    "    sessions = Parallel(n_jobs=4, verbose=1)(delayed(generate_session)(env,agent,t_max=200) for i in range(n_sessions))\n",
    "    \n",
    "    session_hist += sessions\n",
    "    session_hist = session_hist[-(4*n_sessions):]\n",
    "    \n",
    "    states_batch, actions_batch, rewards_batch = map(np.array, zip(*session_hist))\n",
    "\n",
    "    elite_states, elite_actions =select_elites(states_batch, actions_batch, rewards_batch, percentile=percentile)\n",
    "\n",
    "    agent.fit(elite_states, elite_actions)\n",
    "\n",
    "    show_progress(rewards_batch, log, reward_range=[np.min(rewards_batch), np.max(rewards_batch)])\n",
    "\n",
    "    if np.mean(rewards_batch) > 50:\n",
    "        print(\"You Win! You may stop training now via KeyboardInterrupt.\")"
   ]
  },
  {
   "cell_type": "code",
   "execution_count": null,
   "metadata": {},
   "outputs": [],
   "source": [
    "import gym.wrappers\n",
    "\n",
    "try:\n",
    "    env.close()\n",
    "    env.env.close()\n",
    "except:\n",
    "    pass\n",
    "\n",
    "env = gym.wrappers.Monitor(gym.make(\"LunarLander-v2\"),\n",
    "                           directory=\"videos\", force=True)\n",
    "sessions = [generate_session(env,agent) for _ in range(5)]\n",
    "env.close()\n",
    "env.env.close()"
   ]
  },
  {
   "cell_type": "markdown",
   "metadata": {},
   "source": [
    "### Continuous action states\n"
   ]
  },
  {
   "cell_type": "code",
   "execution_count": 14,
   "metadata": {
    "scrolled": false
   },
   "outputs": [
    {
     "data": {
      "image/png": "[encoded data removed]",
      "text/plain": [
       "<matplotlib.figure.Figure at 0x2330f85e1d0>"
      ]
     },
     "metadata": {},
     "output_type": "display_data"
    }
   ],
   "source": [
    "\n",
    "# if you see \"<classname> has no attribute .env\", remove .env or update gym\n",
    "try:\n",
    "    env.close()\n",
    "except:\n",
    "    pass\n",
    "\n",
    "env = gym.make(\"Pendulum-v0\").env\n",
    "\n",
    "env.reset()\n",
    "# # n_actions = env.action_space.n\n",
    "\n",
    "plt.imshow(env.render(\"rgb_array\"))\n",
    "env.close()"
   ]
  },
  {
   "cell_type": "code",
   "execution_count": 15,
   "metadata": {},
   "outputs": [],
   "source": [
    "import math\n",
    "import copy\n",
    "## https://gist.github.com/ThyrixYang/0422de21ed1aa7de29f2c946eff78faf\n",
    "\n",
    "def generate_session_cont(env, agent, weights, t_max=100):\n",
    "\n",
    "    states, actions = [], []\n",
    "    total_reward = 0\n",
    "    arr_noise = []\n",
    "\n",
    "    s = env.reset()\n",
    "    a = 0\n",
    "\n",
    "    agent_session = copy.deepcopy(agent)\n",
    "    agent_session.coefs_ = weights\n",
    "    \n",
    "    for t in range(t_max):\n",
    "        \n",
    "        # predict array of action probabilities    \n",
    "        a = agent_session.predict([s]) \n",
    "        a = np.clip(a,-2,2)\n",
    "        \n",
    "        new_s, r, done, info = env.step(a)\n",
    "\n",
    "        # record sessions like you did before\n",
    "        states.append(s)\n",
    "        actions.append(a[0])\n",
    "        total_reward += r\n",
    "\n",
    "        s = new_s\n",
    "        if done:\n",
    "            break\n",
    "                \n",
    "    return states, actions, total_reward, arr_noise\n",
    "\n",
    "def select_elites(states_batch, actions_batch, rewards_batch, percentile=50):\n",
    "\n",
    "    reward_threshold = np.percentile(rewards_batch,q = percentile)\n",
    "\n",
    "    elite_idx = [i for i, rew in enumerate(rewards_batch) if rew>=reward_threshold ]\n",
    "\n",
    "    elite_states = [j  for i in elite_idx for j in states_batch[i]]\n",
    "    elite_actions = [j  for i in elite_idx for j in actions_batch[i]]\n",
    "    \n",
    "    return elite_states, elite_actions, elite_idx"
   ]
  },
  {
   "cell_type": "code",
   "execution_count": 16,
   "metadata": {
    "scrolled": false
   },
   "outputs": [
    {
     "ename": "NameError",
     "evalue": "name 'agent' is not defined",
     "output_type": "error",
     "traceback": [
      "\u001b[1;31m---------------------------------------------------------------------------\u001b[0m",
      "\u001b[1;31mNameError\u001b[0m                                 Traceback (most recent call last)",
      "\u001b[1;32m<ipython-input-16-ef78dba45b81>\u001b[0m in \u001b[0;36m<module>\u001b[1;34m()\u001b[0m\n\u001b[0;32m      1\u001b[0m \u001b[0mn_size\u001b[0m \u001b[1;33m=\u001b[0m \u001b[1;36m10\u001b[0m\u001b[1;33m\u001b[0m\u001b[0m\n\u001b[1;32m----> 2\u001b[1;33m \u001b[0mplt\u001b[0m\u001b[1;33m.\u001b[0m\u001b[0mhist\u001b[0m\u001b[1;33m(\u001b[0m\u001b[0magent\u001b[0m\u001b[1;33m.\u001b[0m\u001b[0mpredict\u001b[0m\u001b[1;33m(\u001b[0m\u001b[1;33m[\u001b[0m\u001b[0menv\u001b[0m\u001b[1;33m.\u001b[0m\u001b[0mreset\u001b[0m\u001b[1;33m(\u001b[0m\u001b[1;33m)\u001b[0m \u001b[1;32mfor\u001b[0m \u001b[0mx\u001b[0m \u001b[1;32min\u001b[0m \u001b[0mrange\u001b[0m\u001b[1;33m(\u001b[0m\u001b[0mn_size\u001b[0m\u001b[1;33m)\u001b[0m\u001b[1;33m]\u001b[0m\u001b[1;33m)\u001b[0m\u001b[1;33m)\u001b[0m\u001b[1;33m\u001b[0m\u001b[0m\n\u001b[0m\u001b[0;32m      3\u001b[0m \u001b[0mtt\u001b[0m \u001b[1;33m=\u001b[0m \u001b[0magent\u001b[0m\u001b[1;33m.\u001b[0m\u001b[0mpredict\u001b[0m\u001b[1;33m(\u001b[0m\u001b[1;33m[\u001b[0m\u001b[0menv\u001b[0m\u001b[1;33m.\u001b[0m\u001b[0mreset\u001b[0m\u001b[1;33m(\u001b[0m\u001b[1;33m)\u001b[0m \u001b[1;32mfor\u001b[0m \u001b[0mx\u001b[0m \u001b[1;32min\u001b[0m \u001b[0mrange\u001b[0m\u001b[1;33m(\u001b[0m\u001b[0mn_size\u001b[0m\u001b[1;33m)\u001b[0m\u001b[1;33m]\u001b[0m\u001b[1;33m)\u001b[0m\u001b[1;33m\u001b[0m\u001b[0m\n\u001b[0;32m      4\u001b[0m \u001b[0mlist\u001b[0m\u001b[1;33m(\u001b[0m\u001b[0mtt\u001b[0m\u001b[1;33m)\u001b[0m\u001b[1;33m\u001b[0m\u001b[0m\n",
      "\u001b[1;31mNameError\u001b[0m: name 'agent' is not defined"
     ]
    }
   ],
   "source": [
    "n_size = 10\n",
    "plt.hist(agent.predict([env.reset() for x in range(n_size)]))\n",
    "tt = agent.predict([env.reset() for x in range(n_size)])\n",
    "list(tt)"
   ]
  },
  {
   "cell_type": "code",
   "execution_count": 40,
   "metadata": {
    "scrolled": true
   },
   "outputs": [
    {
     "name": "stdout",
     "output_type": "stream",
     "text": [
      "[ 0.76159416]\n"
     ]
    },
    {
     "ename": "ZeroDivisionError",
     "evalue": "division by zero",
     "output_type": "error",
     "traceback": [
      "\u001b[1;31m---------------------------------------------------------------------------\u001b[0m",
      "\u001b[1;31mZeroDivisionError\u001b[0m                         Traceback (most recent call last)",
      "\u001b[1;32m<ipython-input-40-0e611dc9a8a6>\u001b[0m in \u001b[0;36m<module>\u001b[1;34m()\u001b[0m\n\u001b[0;32m     30\u001b[0m \u001b[1;33m\u001b[0m\u001b[0m\n\u001b[0;32m     31\u001b[0m \u001b[0mprint\u001b[0m \u001b[1;33m(\u001b[0m\u001b[0maa\u001b[0m\u001b[1;33m)\u001b[0m\u001b[1;33m\u001b[0m\u001b[0m\n\u001b[1;32m---> 32\u001b[1;33m \u001b[1;36m1\u001b[0m\u001b[1;33m/\u001b[0m\u001b[1;36m0\u001b[0m\u001b[1;33m\u001b[0m\u001b[0m\n\u001b[0m\u001b[0;32m     33\u001b[0m \u001b[1;33m\u001b[0m\u001b[0m\n\u001b[0;32m     34\u001b[0m agent = MLPRegressor(hidden_layer_sizes=(10,10),\n",
      "\u001b[1;31mZeroDivisionError\u001b[0m: division by zero"
     ]
    }
   ],
   "source": [
    "from sklearn.neural_network import MLPClassifier,MLPRegressor\n",
    "from joblib import Parallel, delayed \n",
    "import dill\n",
    "\n",
    "\n",
    "try:\n",
    "    env.close()\n",
    "except:\n",
    "    pass\n",
    "\n",
    "env = gym.make(\"Pendulum-v0\").env\n",
    "\n",
    "\n",
    "def make_weights():\n",
    "    W1 = np.zeros([3,10])\n",
    "    b1 = np.zeros([10])\n",
    "    W2  = np.zeros([10,10])\n",
    "    b2 = np.zeros([10])\n",
    "    W3 = np.zeros([10,1])\n",
    "    b3 = np.zeros([1])\n",
    "    return [W1,b1,W2,b2,W3,b3]\n",
    "\n",
    "def predict_action(obs, weights):\n",
    "    W1,b1,W2,b2,W3,b3 = weights\n",
    "    return np.tanh(np.dot(np.tanh(np.dot(np.tanh(np.dot(obs,W1)+b1),W2)+b2),W3)+b3) * 2\n",
    "\n",
    "\n",
    "weights = make_weights()\n",
    "aa = predict_action(env.reset(), weights)\n",
    "\n",
    "    \n",
    "agent = MLPRegressor(hidden_layer_sizes=(10,10),\n",
    "                      activation='relu',\n",
    "                     solver = 'adam',\n",
    "                     warm_start=True,  # keep progress between .fit(...) calls\n",
    "                     max_iter= 1,  # make only 1 iteration on each .fit(...)\n",
    "                     alpha=0\n",
    "                      )\n",
    "\n",
    "# initialize agent to the dimension of state an amount of actions\n",
    "\n",
    "n_size = 1\n",
    "agent.fit([env.reset() for x in range(n_size)], np.random.uniform(0,0,size = n_size))\n",
    "# agent2.fit([env.reset() for x in range(2)], [4,4])\n",
    "\n",
    "\n",
    "n_sessions = 100\n",
    "percentile = 80\n",
    "log = []\n",
    "session_hist = []\n",
    "\n",
    "eps = 1\n",
    "\n",
    "\n",
    "weight_hist = []\n",
    "mean_coef = agent.coefs_\n",
    "theta = 0.3\n",
    "max_std = 0\n",
    "std_coef_ = [x*0+max_std for x in mean_coef]\n",
    "\n",
    "\n",
    "for i in range(1000):\n",
    "    \n",
    "    # generate new random weights\n",
    "    w_sess = [[np.random.normal(mean_coef[i], std_coef_[i]*(1+theta)) for i in range(len(mean_coef))] for _ in range(n_sessions)]\n",
    "    sessions = Parallel(n_jobs=4, verbose=1)(delayed(generate_session_cont)(env, agent, w) for w in w_sess)\n",
    "    \n",
    "    weight_hist += w_sess\n",
    "    weight_hist = weight_hist[-4*n_sessions:]\n",
    "    \n",
    "    session_hist += sessions\n",
    "    session_hist = session_hist[-4*n_sessions:]\n",
    "    \n",
    "    states_batch, actions_batch, rewards_batch, arr_noise = map(np.array, zip(*session_hist))\n",
    "    \n",
    "    \n",
    "    reward_threshold = np.percentile(rewards_batch,q = percentile)\n",
    "    elite_idx = [i for i, rew in enumerate(rewards_batch) if rew>=reward_threshold ]\n",
    "    elite_states = [j  for i in elite_idx for j in states_batch[i]]\n",
    "    elite_actions = [j  for i in elite_idx for j in actions_batch[i]]\n",
    "    \n",
    "    \n",
    "    mean_coef_ = [np.mean([weight_hist[i][j] for i in elite_idx],axis=0) for j in range(len(agent.coefs_))]\n",
    "    std_coef_ = [np.std([weight_hist[i][j] for i in elite_idx],axis=0) for j in range(len(agent.coefs_))]\n",
    "    std_coef_ = [np.clip(x,a_max=max_std, a_min=0) for x in std_coef_]\n",
    "\n",
    "#     sessions = Parallel(n_jobs=4, verbose=1)(delayed(generate_session_cont)(env,agent,lrand=0) for i in range(n_sessions))\n",
    "#     _, _, rewards_batch = map(np.array, zip(*session_hist))\n",
    "    \n",
    "    show_progress(rewards_batch, log, reward_range=[np.min(rewards_batch), np.max(rewards_batch)])\n",
    "    \n",
    "    print ([np.mean(x) for x in mean_coef_])\n",
    "    print ([np.mean(x) for x in std_coef_])\n",
    "\n",
    "    \n",
    "    if np.mean(rewards_batch) > 50:\n",
    "        print(\"You Win! You may stop training now via KeyboardInterrupt.\")"
   ]
  },
  {
   "cell_type": "code",
   "execution_count": 23,
   "metadata": {},
   "outputs": [
    {
     "data": {
      "text/plain": [
       "[2.0598248863153219,\n",
       " 1.017288373478185,\n",
       " 1.8340648242382052,\n",
       " 1.3023086592779907,\n",
       " 0.99654333745573109,\n",
       " 1.2822293885442764,\n",
       " 1.2969470739091191,\n",
       " 1.9505529822515448,\n",
       " 1.7727417281784161,\n",
       " 0.89621173004755295]"
      ]
     },
     "execution_count": 23,
     "metadata": {},
     "output_type": "execute_result"
    },
    {
     "data": {
      "image/png": "[encoded data removed]",
      "text/plain": [
       "<matplotlib.figure.Figure at 0x233110af588>"
      ]
     },
     "metadata": {},
     "output_type": "display_data"
    }
   ],
   "source": [
    "n_size = 10\n",
    "plt.hist(agent.predict([env.reset() for x in range(n_size)]))\n",
    "tt = agent.predict([env.reset() for x in range(n_size)])\n",
    "list(tt)"
   ]
  },
  {
   "cell_type": "code",
   "execution_count": 871,
   "metadata": {},
   "outputs": [
    {
     "data": {
      "text/plain": [
       "[array([[ 0.75421803, -0.34622459, -0.27942305,  1.72443311,  0.46390596,\n",
       "         -1.36093041, -1.13629461,  1.96835925,  1.02805941,  1.78281337],\n",
       "        [-1.07771932, -0.19114579,  0.46341563,  0.14412951, -0.99621105,\n",
       "          0.62052192,  0.22711581, -0.84811765,  0.39137822,  0.78354358],\n",
       "        [-0.62142807,  0.28196307, -1.60252063,  0.33042066,  0.37131299,\n",
       "          0.04648736, -0.69292165,  0.73354938, -1.19072195, -0.80407185],\n",
       "        [-1.07157122,  0.66482763,  0.77780983,  1.24606471,  0.87673551,\n",
       "         -0.49314202, -0.25419679,  0.87654257,  1.67162358, -1.60202207],\n",
       "        [ 0.09635762,  0.99693188, -0.82368514,  1.22551462, -0.74717625,\n",
       "          0.27073261, -0.54712821,  0.21820951,  0.66977662, -0.73782869],\n",
       "        [ 0.52722969,  0.09070239, -0.33340426,  1.50486911, -0.31555846,\n",
       "         -0.90924243, -0.05703645,  1.04441335,  0.60794694,  0.43126514],\n",
       "        [-1.91936954,  1.6683845 ,  0.27372105,  0.24087849, -0.54599566,\n",
       "         -0.3038909 , -0.4415164 ,  0.05265939,  0.39894664, -0.5365296 ],\n",
       "        [ 1.01231709,  0.26408871, -1.2154181 , -0.26482531, -1.89707083,\n",
       "         -0.68444131,  0.00673375,  1.14941193, -0.92763614,  0.15979212],\n",
       "        [ 0.34368237, -0.21524897,  0.22809636,  0.38782779, -1.12580889,\n",
       "         -0.18159025, -0.9660402 , -0.01166605, -0.2241863 ,  0.1893445 ],\n",
       "        [ 1.04319164, -1.35089376,  0.73673309,  0.77391307, -0.17005234,\n",
       "          0.00631318, -0.85918538,  0.3845531 ,  0.37678128,  0.67169125],\n",
       "        [ 1.14329824,  1.58714712, -0.26011392,  0.12276118, -1.45299017,\n",
       "         -0.74250426, -0.43703283,  0.90253263,  0.42968651, -1.22331105],\n",
       "        [ 0.22276745, -0.61350933, -0.42340764,  0.37650453, -0.83228094,\n",
       "         -0.38066363, -0.8077013 ,  0.34550583, -0.53404708, -0.2707665 ],\n",
       "        [ 0.82198942,  0.55939556, -0.33052712,  0.31780698,  1.16800419,\n",
       "          0.21767615, -1.48666726, -0.71163213,  0.59347354, -0.10476142],\n",
       "        [ 0.33763135, -0.49522578, -2.00038297,  0.26457849,  0.97961016,\n",
       "         -0.05978869, -0.72653753,  0.00800057,  0.64385808, -0.26461046],\n",
       "        [-0.21256712,  0.37785175,  0.33956908, -0.34810507,  0.24400245,\n",
       "         -0.16552995, -1.14711142, -0.47818031, -1.09439341,  0.42478226],\n",
       "        [-0.97683244,  0.06238157,  1.37744856, -0.02720596,  0.68838954,\n",
       "         -0.03668955, -0.52225668,  0.52992135,  1.69913344, -0.26086907],\n",
       "        [-0.93138892,  0.09396634, -0.62534908, -0.41209141, -0.70032961,\n",
       "          0.1476667 ,  0.31457131,  1.5219245 , -0.53251616, -0.69780191],\n",
       "        [ 0.33527956,  1.11126087,  0.77826374,  1.03597996,  0.27002413,\n",
       "          1.18338197,  0.16238004, -0.07118064, -0.38971136, -0.3908659 ],\n",
       "        [ 0.0517616 , -0.39384513, -1.12154018, -0.05624362,  0.61008012,\n",
       "         -0.21083721, -1.24369095, -0.57034708, -0.55385921, -0.03238852],\n",
       "        [-0.45489296,  0.18112403,  0.21653458, -0.78367971, -0.6684207 ,\n",
       "          0.16968402,  2.50705063, -0.48067643,  0.49254247,  1.22654652]]),\n",
       " array([[ -1.87253737e-01,  -1.76542841e-01,  -9.62864031e-02,\n",
       "          -8.13441370e-01,   4.21433361e-01,   7.56700844e-01,\n",
       "           3.48122598e-01,   5.84399436e-01,  -1.61570635e-01,\n",
       "          -8.08829686e-02],\n",
       "        [ -1.02011898e-02,   3.61390312e-01,   3.68089699e-01,\n",
       "          -3.34546688e-01,   8.61572983e-02,   4.14263007e-02,\n",
       "           2.35353580e-01,   2.70280455e-02,   3.18300529e-01,\n",
       "           1.49615705e-01],\n",
       "        [  3.44689735e-01,  -2.23564627e-01,   1.09959951e-02,\n",
       "          -4.97226589e-01,  -4.38529814e-01,   3.24239729e-02,\n",
       "           6.30445957e-01,  -2.82364440e-01,  -3.37668687e-01,\n",
       "           6.40906139e-03],\n",
       "        [ -6.15497943e-01,  -2.45068211e-01,  -7.49584685e-01,\n",
       "          -1.62833076e-01,  -4.41556094e-01,  -3.91524972e-01,\n",
       "          -5.75213217e-01,  -2.75047853e-01,   3.43761223e-01,\n",
       "           1.45705638e-01],\n",
       "        [ -2.00236834e-01,   2.00153846e-01,   9.42932210e-01,\n",
       "          -4.46320245e-02,   4.67223009e-02,   4.28259307e-01,\n",
       "           5.26953671e-02,  -9.32020622e-01,   7.63421280e-01,\n",
       "          -1.26491459e-01],\n",
       "        [  2.96371858e-01,  -2.17857046e-01,   3.30560574e-01,\n",
       "          -3.74067554e-02,  -1.29196483e-01,  -1.93105454e-01,\n",
       "           6.98203219e-02,   3.02337343e-01,   5.55976993e-01,\n",
       "           1.83227758e-01],\n",
       "        [ -4.82575627e-01,   1.66158222e-01,   5.75716006e-01,\n",
       "          -1.66176818e-01,  -4.21132309e-02,   2.01104039e-01,\n",
       "           7.31473735e-01,   7.10754923e-02,   3.97405937e-03,\n",
       "          -1.20833174e-01],\n",
       "        [ -4.25939774e-02,  -1.92015577e-01,   9.94830361e-01,\n",
       "          -3.33327275e-01,  -3.14980772e-02,  -2.27978165e-01,\n",
       "           1.67712050e-01,  -1.11457634e-02,  -4.24420691e-01,\n",
       "           4.19543826e-01],\n",
       "        [  2.57499550e-01,   2.82312309e-01,   7.68074640e-01,\n",
       "          -4.59006856e-01,   1.70216698e-01,   9.62825409e-01,\n",
       "          -1.12343537e+00,   7.60479126e-02,   2.67498406e-01,\n",
       "           1.76137881e-01],\n",
       "        [ -2.38774802e-01,   2.18493716e-01,   5.52123580e-01,\n",
       "           2.86477953e-01,  -1.24332798e-01,   1.14544429e-01,\n",
       "          -2.54464038e-01,   3.30742445e-01,  -5.63212323e-01,\n",
       "           1.12614397e-01],\n",
       "        [  2.08001128e-01,  -1.30761150e-01,   3.65952597e-01,\n",
       "           1.12671038e-01,  -4.14255851e-01,   2.52462864e-01,\n",
       "           4.78549633e-02,  -2.05369408e-01,  -3.73450579e-01,\n",
       "          -6.63013128e-01],\n",
       "        [  2.55142626e-01,  -4.13979946e-01,   6.38067904e-01,\n",
       "          -3.97360186e-01,  -6.49143687e-01,  -3.71659108e-01,\n",
       "           1.08449009e-01,   4.72318539e-01,  -4.20420429e-01,\n",
       "           3.93646806e-01],\n",
       "        [  1.66071277e-01,  -1.96766660e-01,   1.04976787e-01,\n",
       "          -2.12004687e-01,  -7.15444144e-01,  -1.18849912e+00,\n",
       "          -7.93877013e-02,  -5.33162597e-02,  -2.34908037e-01,\n",
       "          -4.42626793e-01],\n",
       "        [ -2.93747873e-01,   9.14414207e-03,   7.83064176e-02,\n",
       "          -1.11055646e-01,  -1.90619236e-01,  -1.02200967e+00,\n",
       "          -1.39488262e-01,  -6.08164589e-01,  -4.05200243e-01,\n",
       "          -6.07154331e-03],\n",
       "        [  1.93372213e-01,  -6.81301365e-01,  -1.04222044e-01,\n",
       "          -5.45584722e-01,  -1.45707988e-02,  -8.86032922e-02,\n",
       "           4.53652678e-01,  -4.78582099e-01,   4.99838308e-01,\n",
       "          -7.85444417e-01],\n",
       "        [ -7.83839410e-01,  -3.85626645e-01,   2.22535729e-01,\n",
       "          -1.94588516e-01,  -2.38790524e-01,   3.03566878e-01,\n",
       "           6.06655406e-01,  -5.61737250e-01,  -1.51828882e-01,\n",
       "          -7.30544131e-01],\n",
       "        [ -2.41942823e-01,  -1.88786878e-01,  -9.51324833e-02,\n",
       "          -8.53363986e-02,  -1.36117597e-01,   1.03545775e-01,\n",
       "           3.55446619e-01,  -1.71907853e-04,   2.93315842e-01,\n",
       "          -6.46903895e-01],\n",
       "        [ -6.16684728e-01,  -8.87273003e-01,   3.99847822e-02,\n",
       "          -2.69984414e-01,   4.18267775e-01,  -1.89826372e-01,\n",
       "           5.27624613e-02,   1.86650920e-01,   7.72845971e-01,\n",
       "          -3.82654190e-01],\n",
       "        [ -3.24284957e-02,  -3.27491736e-02,  -8.57192746e-02,\n",
       "           1.56211624e-01,   9.80670802e-01,   3.61432381e-01,\n",
       "          -3.57745143e-01,  -3.92619396e-01,   1.01686771e+00,\n",
       "          -2.13593190e-01],\n",
       "        [ -2.73535197e-01,  -2.60895040e-01,   5.80796407e-01,\n",
       "          -9.75363721e-02,  -1.16978749e-01,  -8.03567116e-01,\n",
       "           3.65046068e-01,   4.39744189e-01,   4.32259972e-01,\n",
       "           3.22733426e-01]]),\n",
       " array([[-0.17936491],\n",
       "        [ 0.06496775],\n",
       "        [-0.69795366],\n",
       "        [ 0.08635718],\n",
       "        [-0.16066186],\n",
       "        [-0.38039874],\n",
       "        [-0.18425433],\n",
       "        [ 0.32113831],\n",
       "        [-0.85361472],\n",
       "        [-0.25361356],\n",
       "        [-0.25031466],\n",
       "        [ 0.34203829],\n",
       "        [-0.19252179],\n",
       "        [-0.51831137],\n",
       "        [-0.90346146],\n",
       "        [-0.60547411],\n",
       "        [ 0.00820632],\n",
       "        [-0.47876104],\n",
       "        [-0.55874673],\n",
       "        [-0.72265959]])]"
      ]
     },
     "execution_count": 871,
     "metadata": {},
     "output_type": "execute_result"
    }
   ],
   "source": [
    "[np.mean([weight_hist[i][j] for i in elite_idx],axis=1) for j in range(len(agent.coefs_))]"
   ]
  },
  {
   "cell_type": "code",
   "execution_count": 870,
   "metadata": {},
   "outputs": [
    {
     "data": {
      "text/plain": [
       "[array([[ 0.31028204, -0.43650758, -0.24806418,  0.95937134, -0.1442618 ,\n",
       "          0.29124733, -0.51222611,  0.00171978,  0.80988375, -0.46538097],\n",
       "        [ 0.02332525,  0.77469062,  0.62373861,  0.02356348,  0.03797472,\n",
       "         -0.6461257 , -0.43816629,  0.74313363,  0.02503538, -0.40608647],\n",
       "        [-0.42001412,  0.31190677, -0.94930145,  0.18759484, -0.4606874 ,\n",
       "         -0.07513964, -0.26572751,  0.23971405, -0.30149886,  0.6830602 ]]),\n",
       " array([[-0.65576137, -0.40406445,  0.71072997,  0.24041144,  0.00114852,\n",
       "         -0.22294818,  0.26624952, -0.211882  ,  0.53973103, -0.18606986],\n",
       "        [-0.51171201, -0.06807566,  0.15814369, -0.04206174,  0.1644553 ,\n",
       "         -0.14845143, -0.46380591,  0.64139041,  0.65950144, -0.72228702],\n",
       "        [-0.14921983, -0.09777582, -0.11944366, -0.81017226,  0.20761667,\n",
       "         -0.31704015,  0.27395331, -0.13026054,  0.02918755,  0.43586631],\n",
       "        [ 0.07737436, -0.7315051 ,  0.42385982,  0.09147647,  0.39151415,\n",
       "          0.79107092,  0.57890268, -0.83683254, -0.5685974 ,  0.02443167],\n",
       "        [-0.26016839, -0.35341625,  0.24137511, -0.10341757, -0.74824385,\n",
       "         -0.14752908,  0.36121571,  0.17235665,  0.363497  , -0.33248459],\n",
       "        [-0.86924298,  0.34297313,  0.48956065, -0.64966351,  0.02820299,\n",
       "         -0.52383304,  0.13378125, -0.01871696,  0.24837507,  0.09106267],\n",
       "        [-0.18450926,  0.49943635,  0.3274294 , -0.28640288, -0.63074123,\n",
       "          0.01054461, -0.12418073,  0.55752009,  0.16342577, -0.64441593],\n",
       "        [ 0.09887388, -0.69158298,  0.07268294, -0.27431187, -0.36577604,\n",
       "          0.62318715, -0.42020399, -0.16769082, -0.17008641, -0.31113178],\n",
       "        [ 1.01198548,  0.19537772,  0.35219609,  0.32713971, -0.43023966,\n",
       "          0.00135174, -0.15813868, -0.68799263,  0.17140511, -0.19339764],\n",
       "        [ 0.29329799, -0.18913474,  0.06496538, -0.59634167,  0.60222372,\n",
       "         -0.52559307,  0.40010539,  0.02701071, -0.33874928,  0.69371397]]),\n",
       " array([[-0.05531928],\n",
       "        [-0.60794834],\n",
       "        [-0.39229686],\n",
       "        [-0.09907594],\n",
       "        [-0.45482773],\n",
       "        [ 0.82826138],\n",
       "        [-1.17338838],\n",
       "        [ 0.13461808],\n",
       "        [-0.87728091],\n",
       "        [-0.36144433]])]"
      ]
     },
     "execution_count": 870,
     "metadata": {},
     "output_type": "execute_result"
    }
   ],
   "source": []
  },
  {
   "cell_type": "code",
   "execution_count": 827,
   "metadata": {},
   "outputs": [
    {
     "name": "stdout",
     "output_type": "stream",
     "text": [
      "[-0.9901146] 0.344686663758\n"
     ]
    }
   ],
   "source": [
    "agent = MLPRegressor(hidden_layer_sizes=(10,10),\n",
    "                      activation='relu',\n",
    "                     solver = 'adam',\n",
    "                     warm_start=True,  # keep progress between .fit(...) calls\n",
    "                     max_iter= 100,  # make only 1 iteration on each .fit(...)\n",
    "                     alpha=0\n",
    "                      )\n",
    "\n",
    "# agent.max_iter = 10000000\n",
    "agent.fit(np.array(elite_states), elite_actions)\n",
    "\n",
    "i = 24\n",
    "print (agent.predict([elite_states[i]]), elite_actions[i])"
   ]
  },
  {
   "cell_type": "code",
   "execution_count": 828,
   "metadata": {},
   "outputs": [
    {
     "name": "stdout",
     "output_type": "stream",
     "text": [
      "[[ 1.          0.45509046]\n",
      " [ 0.45509046  1.        ]]\n"
     ]
    },
    {
     "data": {
      "text/plain": [
       "[<matplotlib.lines.Line2D at 0x1f54e8f2ac8>]"
      ]
     },
     "execution_count": 828,
     "metadata": {},
     "output_type": "execute_result"
    },
    {
     "data": {
      "image/png": "[encoded data removed]",
      "text/plain": [
       "<matplotlib.figure.Figure at 0x1f54e8e9978>"
      ]
     },
     "metadata": {},
     "output_type": "display_data"
    }
   ],
   "source": [
    "print (np.corrcoef(agent.predict(elite_states),elite_actions))\n",
    "plt.plot(agent.predict(elite_states),elite_actions,'o')"
   ]
  },
  {
   "cell_type": "code",
   "execution_count": 742,
   "metadata": {},
   "outputs": [
    {
     "data": {
      "text/plain": [
       "[1.0495945948292789,\n",
       " 1.1946702071457846,\n",
       " 0.96944427570575753,\n",
       " 0.19104024762588379,\n",
       " 0.21318429546070883,\n",
       " 0.23627419869858413,\n",
       " 1.3360391242254601,\n",
       " 1.5432730070741605,\n",
       " 0.049952372329293282,\n",
       " 0.16204664488035425,\n",
       " 0.76823801302560035,\n",
       " 1.3207706801365779,\n",
       " 0.10467676079711707,\n",
       " 0.058627936607184239,\n",
       " 0.14334906580901874,\n",
       " 0.052186565362550175,\n",
       " 0.063037482562954494,\n",
       " 0.63330746077229128,\n",
       " 0.082968824398049201,\n",
       " 0.16021872527448555,\n",
       " 0.212465046414824,\n",
       " 0.11600963536576081,\n",
       " 1.2585720845982546,\n",
       " 0.78390483174615366,\n",
       " 0.10083112233574765,\n",
       " 1.5298883598491675,\n",
       " 0.27878260914112829,\n",
       " 0.10055380311044493,\n",
       " 1.3416322579692528,\n",
       " 0.16593580420663034,\n",
       " 0.3673293590950073,\n",
       " 0.48293899088537162,\n",
       " 0.063430426940719764,\n",
       " 0.23279445969470691,\n",
       " 1.2677847297360165,\n",
       " 0.053844206019991736,\n",
       " 1.2958904601932422,\n",
       " 0.12781702239886683,\n",
       " 0.053214643617080171,\n",
       " 0.69812985973795216,\n",
       " 0.12326264325230529,\n",
       " 0.98607258912424012,\n",
       " 1.1072271964197844,\n",
       " 0.16542521926720022,\n",
       " 0.96237449361554162,\n",
       " 0.32771854790232235,\n",
       " 1.2057793935505787,\n",
       " 0.29236791377185445,\n",
       " 1.4924268304054569,\n",
       " 0.87001832818203417,\n",
       " 1.4748292574520607,\n",
       " 1.3127342181392068,\n",
       " 1.0496942150793278,\n",
       " 0.28665424347696677,\n",
       " 0.38474404767459114,\n",
       " 0.99106167149083557,\n",
       " 0.31979924199986398,\n",
       " 0.21606063486612437,\n",
       " 0.06842339640992634,\n",
       " 0.068164035787574684,\n",
       " 0.19279011195255669,\n",
       " 1.0891888362408091,\n",
       " 0.056799054475421884,\n",
       " 0.13754525812181795,\n",
       " 0.085116301053568599,\n",
       " 0.092404290038619719,\n",
       " 0.042835909842726894,\n",
       " 0.049046279619455624,\n",
       " 0.063804245499654133,\n",
       " 0.11885818962265671,\n",
       " 0.10902754180418062,\n",
       " 0.84445032401433728,\n",
       " 1.1411411869343251,\n",
       " 0.083721587007604348,\n",
       " 0.50470451365543956,\n",
       " 0.028858301567959099,\n",
       " 1.437934105020767,\n",
       " 0.12140856771719022,\n",
       " 0.19731275833738726,\n",
       " 0.20361343534868692,\n",
       " 0.80379762328546533,\n",
       " 0.13984718457671619,\n",
       " 0.80695307432898877,\n",
       " 0.87879178170743644,\n",
       " 0.78641498371112339,\n",
       " 0.83924170483753313,\n",
       " 0.070738373050472703,\n",
       " 0.95215268132516817,\n",
       " 1.5964750372017358,\n",
       " 0.13728000907816373,\n",
       " 0.045634695169031847,\n",
       " 1.3659277067581601,\n",
       " 1.0403506658489281,\n",
       " 0.44531332366992737,\n",
       " 0.382296766230388,\n",
       " 1.1185172596098698,\n",
       " 1.5777649521131027,\n",
       " 0.6287100560659713,\n",
       " 0.021977461600673265,\n",
       " 0.15592487288293266]"
      ]
     },
     "execution_count": 742,
     "metadata": {},
     "output_type": "execute_result"
    },
    {
     "data": {
      "image/png": "[encoded data removed]",
      "text/plain": [
       "<matplotlib.figure.Figure at 0x1f5487b6400>"
      ]
     },
     "metadata": {},
     "output_type": "display_data"
    }
   ],
   "source": [
    "n_size = 100\n",
    "plt.hist(agent2.predict([env.reset() for x in range(n_size)]))\n",
    "tt = agent2.predict([env.reset() for x in range(n_size)])\n",
    "list(tt)"
   ]
  },
  {
   "cell_type": "code",
   "execution_count": null,
   "metadata": {},
   "outputs": [],
   "source": [
    "import gym.wrappers\n",
    "\n",
    "try:\n",
    "    env.close()\n",
    "    env.env.close()\n",
    "except:\n",
    "    pass\n",
    "\n",
    "\n",
    "env = gym.make(\"Pendulum-v0\")\n",
    "env.spec.timestep_limit = 100\n",
    "env = gym.wrappers.Monitor(env,\n",
    "                           directory=\"videos\", force=True)\n",
    "sessions = [generate_session_cont(env,agent) for _ in range(5)]\n",
    "env.close()\n",
    "env.env.close()"
   ]
  },
  {
   "cell_type": "code",
   "execution_count": null,
   "metadata": {},
   "outputs": [],
   "source": [
    "from IPython.display import HTML\n",
    "import os\n",
    "\n",
    "video_names = list(\n",
    "    filter(lambda s: s.endswith(\".mp4\"), os.listdir(\"./videos/\")))\n",
    "\n",
    "HTML(\"\"\"\n",
    "<video width=\"640\" height=\"480\" controls>\n",
    "  <source src=\"{}\" type=\"video/mp4\">\n",
    "</video>\n",
    "\"\"\".format(\"./videos/\"+video_names[-1]))\n"
   ]
  },
  {
   "cell_type": "code",
   "execution_count": null,
   "metadata": {},
   "outputs": [],
   "source": []
  }
 ],
 "metadata": {
  "kernelspec": {
   "display_name": "Python 3",
   "language": "python",
   "name": "python3"
  },
  "language_info": {
   "codemirror_mode": {
    "name": "ipython",
    "version": 3
   },
   "file_extension": ".py",
   "mimetype": "text/x-python",
   "name": "python",
   "nbconvert_exporter": "python",
   "pygments_lexer": "ipython3",
   "version": "3.6.5"
  }
 },
 "nbformat": 4,
 "nbformat_minor": 1
}
